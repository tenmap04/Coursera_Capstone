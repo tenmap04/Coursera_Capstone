{
 "cells": [
  {
   "cell_type": "markdown",
   "metadata": {},
   "source": [
    "# Coursera Capstone Project - Identify the neighbourhood with the least variety of Restaurant types in Perth City\n"
   ]
  },
  {
   "cell_type": "code",
   "execution_count": 2,
   "metadata": {},
   "outputs": [],
   "source": [
    "import random # library for random number generation\n",
    "import numpy as np # library for vectorized computation\n",
    "import pandas as pd # library to process data as dataframes\n",
    "from geopy.geocoders import Nominatim # convert an address into latitude and longitude values\n",
    "from bs4 import BeautifulSoup\n",
    "import requests\n",
    "import re"
   ]
  },
  {
   "cell_type": "markdown",
   "metadata": {},
   "source": [
    "Extract Data from the Wikipedia page."
   ]
  },
  {
   "cell_type": "code",
   "execution_count": 2,
   "metadata": {},
   "outputs": [],
   "source": [
    "# Site URL\n",
    "url=\"https://en.wikipedia.org/wiki/List_of_Perth_suburbs\"\n",
    "\n",
    "# Make a GET request to fetch the raw HTML content\n",
    "html_content = requests.get(url).text\n",
    "\n",
    "# Parse HTML code for the entire site\n",
    "soup = BeautifulSoup(html_content, \"lxml\")\n",
    "#print(soup.prettify()) # print the parsed data of html"
   ]
  },
  {
   "cell_type": "markdown",
   "metadata": {},
   "source": [
    "Extract table headings fromn the Dataset.\n",
    "- iterating through the head HTML code and making list of clean headings"
   ]
  },
  {
   "cell_type": "code",
   "execution_count": 3,
   "metadata": {},
   "outputs": [
    {
     "name": "stdout",
     "output_type": "stream",
     "text": [
      "['Suburb', 'Local government area']\n"
     ]
    }
   ],
   "source": [
    "# The following line will generate a list of HTML content for each table\n",
    "data = soup.find_all(\"table\", attrs={\"class\": \"wikitable\"})\n",
    "perth = data[0]\n",
    "\n",
    "# Table \n",
    "table = perth.find_all(\"tr\")\n",
    "#Header Row\n",
    "column_headers = table[0]\n",
    "\n",
    "# Table Contents\n",
    "table_rows = table[1:]\n",
    "\n",
    "headings = []\n",
    "for item in column_headers.find_all(\"th\"): # loop through all th elements\n",
    "    # convert the th elements to text and strip \"\\n\"\n",
    "    item = (item.text).rstrip(\"\\n\")\n",
    "    # append the clean column name to headings\n",
    "    headings.append(item)\n",
    "print(headings)\n"
   ]
  },
  {
   "cell_type": "markdown",
   "metadata": {},
   "source": [
    "Extract content from webpage table\n",
    "- loop through all row entries\n",
    "- row_item.text removes the tags from the entries\n",
    "- the following regex is to remove \\xa0 and \\n and comma from row_item.text\n",
    "- xa0 encodes the flag, \\n is the newline and comma separates thousands in numbers"
   ]
  },
  {
   "cell_type": "code",
   "execution_count": 4,
   "metadata": {},
   "outputs": [],
   "source": [
    "# Next is now to loop though the rest of the rows\n",
    "\n",
    "#print(body_rows[0])\n",
    "all_rows = [] # will be a list for list for all rows\n",
    "for row_num in range(len(table_rows)): # A row at a time\n",
    "    row = [] # this will old entries for one row\n",
    "    for row_item in table_rows[row_num].find_all(\"td\"): \n",
    "        aa = re.sub(\"(\\xa0)|(\\n)|,\",\"\",row_item.text)\n",
    "        #append aa to row \n",
    "        row.append(aa)\n",
    "    # append one row to all_rows\n",
    "    all_rows.append(row)"
   ]
  },
  {
   "cell_type": "code",
   "execution_count": 5,
   "metadata": {},
   "outputs": [
    {
     "data": {
      "text/html": [
       "<div>\n",
       "<style scoped>\n",
       "    .dataframe tbody tr th:only-of-type {\n",
       "        vertical-align: middle;\n",
       "    }\n",
       "\n",
       "    .dataframe tbody tr th {\n",
       "        vertical-align: top;\n",
       "    }\n",
       "\n",
       "    .dataframe thead th {\n",
       "        text-align: right;\n",
       "    }\n",
       "</style>\n",
       "<table border=\"1\" class=\"dataframe\">\n",
       "  <thead>\n",
       "    <tr style=\"text-align: right;\">\n",
       "      <th></th>\n",
       "      <th>Suburb</th>\n",
       "      <th>Local government area</th>\n",
       "    </tr>\n",
       "  </thead>\n",
       "  <tbody>\n",
       "    <tr>\n",
       "      <th>0</th>\n",
       "      <td>Alexander Heights</td>\n",
       "      <td>Wanneroo</td>\n",
       "    </tr>\n",
       "    <tr>\n",
       "      <th>1</th>\n",
       "      <td>Alfred Cove</td>\n",
       "      <td>Melville</td>\n",
       "    </tr>\n",
       "    <tr>\n",
       "      <th>2</th>\n",
       "      <td>Alkimos</td>\n",
       "      <td>Wanneroo</td>\n",
       "    </tr>\n",
       "    <tr>\n",
       "      <th>3</th>\n",
       "      <td>Anketell</td>\n",
       "      <td>Kwinana</td>\n",
       "    </tr>\n",
       "    <tr>\n",
       "      <th>4</th>\n",
       "      <td>Applecross</td>\n",
       "      <td>Melville</td>\n",
       "    </tr>\n",
       "    <tr>\n",
       "      <th>5</th>\n",
       "      <td>Ardross</td>\n",
       "      <td>Melville</td>\n",
       "    </tr>\n",
       "    <tr>\n",
       "      <th>6</th>\n",
       "      <td>Armadale</td>\n",
       "      <td>Armadale</td>\n",
       "    </tr>\n",
       "    <tr>\n",
       "      <th>7</th>\n",
       "      <td>Ascot</td>\n",
       "      <td>Belmont</td>\n",
       "    </tr>\n",
       "    <tr>\n",
       "      <th>8</th>\n",
       "      <td>Ashby</td>\n",
       "      <td>Wanneroo</td>\n",
       "    </tr>\n",
       "    <tr>\n",
       "      <th>9</th>\n",
       "      <td>Ashendon</td>\n",
       "      <td>Armadale</td>\n",
       "    </tr>\n",
       "    <tr>\n",
       "      <th>10</th>\n",
       "      <td>Ashfield</td>\n",
       "      <td>Bassendean</td>\n",
       "    </tr>\n",
       "    <tr>\n",
       "      <th>11</th>\n",
       "      <td>Attadale</td>\n",
       "      <td>Melville</td>\n",
       "    </tr>\n",
       "  </tbody>\n",
       "</table>\n",
       "</div>"
      ],
      "text/plain": [
       "               Suburb Local government area\n",
       "0   Alexander Heights              Wanneroo\n",
       "1         Alfred Cove              Melville\n",
       "2             Alkimos              Wanneroo\n",
       "3            Anketell               Kwinana\n",
       "4          Applecross              Melville\n",
       "5             Ardross              Melville\n",
       "6            Armadale              Armadale\n",
       "7               Ascot               Belmont\n",
       "8               Ashby              Wanneroo\n",
       "9            Ashendon              Armadale\n",
       "10           Ashfield            Bassendean\n",
       "11           Attadale              Melville"
      ]
     },
     "execution_count": 5,
     "metadata": {},
     "output_type": "execute_result"
    }
   ],
   "source": [
    "df = pd.DataFrame(data=all_rows,columns=headings)\n",
    "perth = df.reset_index(drop=True)\n",
    "perth.head(12)"
   ]
  },
  {
   "cell_type": "code",
   "execution_count": 7,
   "metadata": {},
   "outputs": [
    {
     "data": {
      "text/plain": [
       "(355, 2)"
      ]
     },
     "execution_count": 7,
     "metadata": {},
     "output_type": "execute_result"
    }
   ],
   "source": [
    "df.shape"
   ]
  },
  {
   "cell_type": "markdown",
   "metadata": {},
   "source": [
    "Merge the Suburban Data with the geospatial coordinate data"
   ]
  },
  {
   "cell_type": "code",
   "execution_count": 7,
   "metadata": {},
   "outputs": [],
   "source": [
    "from geopy.geocoders import Nominatim # module to convert an address into latitude and longitude values\n",
    "geolocator = Nominatim(user_agent=\"Perth_explorer\")\n",
    "\n",
    "df['Major_Dist_Coord']= df['Suburb'].apply(geolocator.geocode).apply(lambda x: (x.latitude, x.longitude))\n",
    "df[['Latitude', 'Longitude']] = df['Major_Dist_Coord'].apply(pd.Series)\n",
    "\n",
    "df.drop(['Major_Dist_Coord'], axis=1, inplace=True)\n",
    "df\n",
    "df.to_csv('perth_locations.csv')"
   ]
  },
  {
   "cell_type": "code",
   "execution_count": 8,
   "metadata": {},
   "outputs": [
    {
     "name": "stdout",
     "output_type": "stream",
     "text": [
      "Libraries imported.\n"
     ]
    }
   ],
   "source": [
    "pd.set_option('display.max_columns', None)\n",
    "pd.set_option('display.max_rows', None)\n",
    "\n",
    "import json # library to handle JSON files\n",
    "from geopy.geocoders import Nominatim # convert an address into latitude and longitude values\n",
    "from pandas.io.json import json_normalize # tranform JSON file into a pandas dataframe\n",
    "# Matplotlib and associated plotting modules\n",
    "import matplotlib.cm as cm\n",
    "import matplotlib.colors as colors\n",
    "# import k-means from clustering stage\n",
    "from sklearn.cluster import KMeans\n",
    "import folium # map rendering library\n",
    "\n",
    "print('Libraries imported.')"
   ]
  },
  {
   "cell_type": "markdown",
   "metadata": {},
   "source": [
    "Focus of the Study is on the Perth City Centre and Surrounding Suburbs where most tourists would stay."
   ]
  },
  {
   "cell_type": "code",
   "execution_count": 9,
   "metadata": {},
   "outputs": [
    {
     "data": {
      "text/html": [
       "<div>\n",
       "<style scoped>\n",
       "    .dataframe tbody tr th:only-of-type {\n",
       "        vertical-align: middle;\n",
       "    }\n",
       "\n",
       "    .dataframe tbody tr th {\n",
       "        vertical-align: top;\n",
       "    }\n",
       "\n",
       "    .dataframe thead th {\n",
       "        text-align: right;\n",
       "    }\n",
       "</style>\n",
       "<table border=\"1\" class=\"dataframe\">\n",
       "  <thead>\n",
       "    <tr style=\"text-align: right;\">\n",
       "      <th></th>\n",
       "      <th>Local government area</th>\n",
       "      <th>Latitude</th>\n",
       "      <th>Longitude</th>\n",
       "    </tr>\n",
       "    <tr>\n",
       "      <th>Suburb</th>\n",
       "      <th></th>\n",
       "      <th></th>\n",
       "      <th></th>\n",
       "    </tr>\n",
       "  </thead>\n",
       "  <tbody>\n",
       "    <tr>\n",
       "      <th>East Perth</th>\n",
       "      <td>1</td>\n",
       "      <td>1</td>\n",
       "      <td>1</td>\n",
       "    </tr>\n",
       "    <tr>\n",
       "      <th>North Perth</th>\n",
       "      <td>1</td>\n",
       "      <td>1</td>\n",
       "      <td>1</td>\n",
       "    </tr>\n",
       "    <tr>\n",
       "      <th>Perth City</th>\n",
       "      <td>1</td>\n",
       "      <td>1</td>\n",
       "      <td>1</td>\n",
       "    </tr>\n",
       "    <tr>\n",
       "      <th>South Perth</th>\n",
       "      <td>1</td>\n",
       "      <td>1</td>\n",
       "      <td>1</td>\n",
       "    </tr>\n",
       "    <tr>\n",
       "      <th>West Perth</th>\n",
       "      <td>1</td>\n",
       "      <td>1</td>\n",
       "      <td>1</td>\n",
       "    </tr>\n",
       "  </tbody>\n",
       "</table>\n",
       "</div>"
      ],
      "text/plain": [
       "             Local government area  Latitude  Longitude\n",
       "Suburb                                                 \n",
       "East Perth                       1         1          1\n",
       "North Perth                      1         1          1\n",
       "Perth City                       1         1          1\n",
       "South Perth                      1         1          1\n",
       "West Perth                       1         1          1"
      ]
     },
     "execution_count": 9,
     "metadata": {},
     "output_type": "execute_result"
    }
   ],
   "source": [
    "\n",
    "df = pd.read_csv('perth_locations.csv',index_col=0)\n",
    "df = df[df['Suburb'].str.contains('Perth', case = False)].reset_index(drop=True)\n",
    "df = df[~df['Suburb'].str.contains('Airport', case = False)].reset_index(drop=True)\n",
    "df.groupby('Suburb').count()\n"
   ]
  },
  {
   "cell_type": "markdown",
   "metadata": {},
   "source": [
    "#### Perth coordinates"
   ]
  },
  {
   "cell_type": "code",
   "execution_count": 10,
   "metadata": {},
   "outputs": [],
   "source": [
    "latitude = -31.953512\n",
    "longitude = 115.857048"
   ]
  },
  {
   "cell_type": "markdown",
   "metadata": {},
   "source": [
    "#### Creating a Map of Perth with coordinates superimposed"
   ]
  },
  {
   "cell_type": "code",
   "execution_count": 11,
   "metadata": {},
   "outputs": [
    {
     "data": {
      "text/html": [
       "<div style=\"width:100%;\"><div style=\"position:relative;width:100%;height:0;padding-bottom:60%;\"><span style=\"color:#565656\">Make this Notebook Trusted to load map: File -> Trust Notebook</span><iframe src=\"about:blank\" style=\"position:absolute;width:100%;height:100%;left:0;top:0;border:none !important;\" data-html=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 onload=\"this.contentDocument.open();this.contentDocument.write(atob(this.getAttribute('data-html')));this.contentDocument.close();\" allowfullscreen webkitallowfullscreen mozallowfullscreen></iframe></div></div>"
      ],
      "text/plain": [
       "<folium.folium.Map at 0x1b6a5520708>"
      ]
     },
     "execution_count": 11,
     "metadata": {},
     "output_type": "execute_result"
    }
   ],
   "source": [
    "# create map of Perth using latitude and longitude values\n",
    "map_perth = folium.Map(location=[latitude, longitude], zoom_start=10)\n",
    "\n",
    "# add markers to map\n",
    "for lat, lng, borough, neighborhood in zip(df['Latitude'], df['Longitude'], df['Local government area'], df['Suburb']):\n",
    "    label = '{}, {}'.format(neighborhood, borough)\n",
    "    label = folium.Popup(label, parse_html=True)\n",
    "    folium.CircleMarker(\n",
    "        [lat, lng],\n",
    "        radius=5,\n",
    "        popup=label,\n",
    "        color='blue',\n",
    "        fill=True,\n",
    "        fill_color='#3186cc',\n",
    "        fill_opacity=0.7,\n",
    "        parse_html=False).add_to(map_perth)  \n",
    "    \n",
    "map_perth"
   ]
  },
  {
   "cell_type": "markdown",
   "metadata": {},
   "source": [
    "#### Using Foursquare to identify venues within this area"
   ]
  },
  {
   "cell_type": "code",
   "execution_count": 42,
   "metadata": {},
   "outputs": [],
   "source": [
    "# @hidden_cell\n",
    "CLIENT_ID = 'IJQAAW01PVDVCGB0CMT35FKE1BWLQHZ5J25UDRCW4FLUH3T1' # your Foursquare ID\n",
    "CLIENT_SECRET = 'NBPRRUGJU4XCLNSYHDA01443TXIT23K5F0CACVRVYTHOS5PV' # your Foursquare Secret\n",
    "VERSION = '20180605' # Foursquare API version\n",
    "LIMIT = 100 # A default Foursquare API limit value\n",
    "radius = 500"
   ]
  },
  {
   "cell_type": "code",
   "execution_count": 43,
   "metadata": {},
   "outputs": [],
   "source": [
    "def getNearbyVenues(names, latitudes, longitudes, radius=500):\n",
    "    \n",
    "    venues_list=[]\n",
    "    for name, lat, lng in zip(names, latitudes, longitudes):\n",
    "        print(name)\n",
    "            \n",
    "        # create the API request URL\n",
    "        url = 'https://api.foursquare.com/v2/venues/explore?&client_id={}&client_secret={}&v={}&ll={},{}&radius={}&limit={}'.format(\n",
    "            CLIENT_ID, \n",
    "            CLIENT_SECRET, \n",
    "            VERSION, \n",
    "            lat, \n",
    "            lng, \n",
    "            radius, \n",
    "            LIMIT)\n",
    "            \n",
    "        # make the GET request\n",
    "        results = requests.get(url).json()[\"response\"]['groups'][0]['items']\n",
    "        \n",
    "        # return only relevant information for each nearby venue\n",
    "        venues_list.append([(\n",
    "            name, \n",
    "            lat, \n",
    "            lng, \n",
    "            v['venue']['name'], \n",
    "            v['venue']['location']['lat'], \n",
    "            v['venue']['location']['lng'],  \n",
    "            v['venue']['categories'][0]['name']) for v in results])\n",
    "\n",
    "    nearby_venues = pd.DataFrame([item for venue_list in venues_list for item in venue_list])\n",
    "    nearby_venues.columns = ['Neighborhood', \n",
    "                  'Neighborhood Latitude', \n",
    "                  'Neighborhood Longitude', \n",
    "                  'Venue', \n",
    "                  'Venue Latitude', \n",
    "                  'Venue Longitude', \n",
    "                  'Venue Category']\n",
    "    \n",
    "    return(nearby_venues)"
   ]
  },
  {
   "cell_type": "code",
   "execution_count": 64,
   "metadata": {},
   "outputs": [
    {
     "name": "stdout",
     "output_type": "stream",
     "text": [
      "East Perth\n",
      "North Perth\n",
      "Perth City\n",
      "South Perth\n",
      "West Perth\n"
     ]
    }
   ],
   "source": [
    "perth_venues = getNearbyVenues(names=df['Suburb'],\n",
    "                                   latitudes=df['Latitude'],\n",
    "                                   longitudes=df['Longitude']\n",
    "                                  )"
   ]
  },
  {
   "cell_type": "markdown",
   "metadata": {},
   "source": [
    "#### Hospitality venue types withthe designated area"
   ]
  },
  {
   "cell_type": "code",
   "execution_count": 65,
   "metadata": {},
   "outputs": [
    {
     "name": "stdout",
     "output_type": "stream",
     "text": [
      "(155, 7)\n"
     ]
    },
    {
     "data": {
      "text/plain": [
       "Café                         26\n",
       "Coffee Shop                  12\n",
       "Bar                           6\n",
       "Italian Restaurant            4\n",
       "Restaurant                    3\n",
       "Pizza Place                   3\n",
       "Indian Restaurant             3\n",
       "Australian Restaurant         3\n",
       "Wine Bar                      3\n",
       "Asian Restaurant              3\n",
       "Thai Restaurant               3\n",
       "Vietnamese Restaurant         2\n",
       "Middle Eastern Restaurant     2\n",
       "Sushi Restaurant              2\n",
       "Korean Restaurant             2\n",
       "Cocktail Bar                  1\n",
       "Korean BBQ Restaurant         1\n",
       "Beer Bar                      1\n",
       "Breakfast Spot                1\n",
       "Mediterranean Restaurant      1\n",
       "Mexican Restaurant            1\n",
       "Portuguese Restaurant         1\n",
       "Ramen Restaurant              1\n",
       "Name: Venue Category, dtype: int64"
      ]
     },
     "execution_count": 65,
     "metadata": {},
     "output_type": "execute_result"
    }
   ],
   "source": [
    "print(perth_venues.shape)\n",
    "#perth_venues.head()\n",
    "text = ['Restaurant','bar','Caf','Coff','pizza','break']\n",
    "pattern = '|'.join(text)\n",
    "perth_venues = perth_venues[perth_venues['Venue Category'].str.contains(pattern,case=False)].reset_index(drop=True)\n",
    "##perth_gas.index = np.arange(1, len(perth_venues)+1)\n",
    "perth_venues['Venue Category'].value_counts()"
   ]
  },
  {
   "cell_type": "markdown",
   "metadata": {},
   "source": [
    "#### The number of venues for each area"
   ]
  },
  {
   "cell_type": "code",
   "execution_count": 66,
   "metadata": {},
   "outputs": [
    {
     "data": {
      "text/html": [
       "<div>\n",
       "<style scoped>\n",
       "    .dataframe tbody tr th:only-of-type {\n",
       "        vertical-align: middle;\n",
       "    }\n",
       "\n",
       "    .dataframe tbody tr th {\n",
       "        vertical-align: top;\n",
       "    }\n",
       "\n",
       "    .dataframe thead th {\n",
       "        text-align: right;\n",
       "    }\n",
       "</style>\n",
       "<table border=\"1\" class=\"dataframe\">\n",
       "  <thead>\n",
       "    <tr style=\"text-align: right;\">\n",
       "      <th></th>\n",
       "      <th>Neighborhood Latitude</th>\n",
       "      <th>Neighborhood Longitude</th>\n",
       "      <th>Venue</th>\n",
       "      <th>Venue Latitude</th>\n",
       "      <th>Venue Longitude</th>\n",
       "      <th>Venue Category</th>\n",
       "    </tr>\n",
       "    <tr>\n",
       "      <th>Neighborhood</th>\n",
       "      <th></th>\n",
       "      <th></th>\n",
       "      <th></th>\n",
       "      <th></th>\n",
       "      <th></th>\n",
       "      <th></th>\n",
       "    </tr>\n",
       "  </thead>\n",
       "  <tbody>\n",
       "    <tr>\n",
       "      <th>East Perth</th>\n",
       "      <td>14</td>\n",
       "      <td>14</td>\n",
       "      <td>14</td>\n",
       "      <td>14</td>\n",
       "      <td>14</td>\n",
       "      <td>14</td>\n",
       "    </tr>\n",
       "    <tr>\n",
       "      <th>North Perth</th>\n",
       "      <td>11</td>\n",
       "      <td>11</td>\n",
       "      <td>11</td>\n",
       "      <td>11</td>\n",
       "      <td>11</td>\n",
       "      <td>11</td>\n",
       "    </tr>\n",
       "    <tr>\n",
       "      <th>Perth City</th>\n",
       "      <td>39</td>\n",
       "      <td>39</td>\n",
       "      <td>39</td>\n",
       "      <td>39</td>\n",
       "      <td>39</td>\n",
       "      <td>39</td>\n",
       "    </tr>\n",
       "    <tr>\n",
       "      <th>South Perth</th>\n",
       "      <td>5</td>\n",
       "      <td>5</td>\n",
       "      <td>5</td>\n",
       "      <td>5</td>\n",
       "      <td>5</td>\n",
       "      <td>5</td>\n",
       "    </tr>\n",
       "    <tr>\n",
       "      <th>West Perth</th>\n",
       "      <td>16</td>\n",
       "      <td>16</td>\n",
       "      <td>16</td>\n",
       "      <td>16</td>\n",
       "      <td>16</td>\n",
       "      <td>16</td>\n",
       "    </tr>\n",
       "  </tbody>\n",
       "</table>\n",
       "</div>"
      ],
      "text/plain": [
       "              Neighborhood Latitude  Neighborhood Longitude  Venue  \\\n",
       "Neighborhood                                                         \n",
       "East Perth                       14                      14     14   \n",
       "North Perth                      11                      11     11   \n",
       "Perth City                       39                      39     39   \n",
       "South Perth                       5                       5      5   \n",
       "West Perth                       16                      16     16   \n",
       "\n",
       "              Venue Latitude  Venue Longitude  Venue Category  \n",
       "Neighborhood                                                   \n",
       "East Perth                14               14              14  \n",
       "North Perth               11               11              11  \n",
       "Perth City                39               39              39  \n",
       "South Perth                5                5               5  \n",
       "West Perth                16               16              16  "
      ]
     },
     "execution_count": 66,
     "metadata": {},
     "output_type": "execute_result"
    }
   ],
   "source": [
    "perth_venues.groupby('Neighborhood').count()"
   ]
  },
  {
   "cell_type": "markdown",
   "metadata": {},
   "source": [
    "#### Number of unique categories."
   ]
  },
  {
   "cell_type": "code",
   "execution_count": 67,
   "metadata": {},
   "outputs": [
    {
     "name": "stdout",
     "output_type": "stream",
     "text": [
      "There are 23 uniques categories.\n"
     ]
    }
   ],
   "source": [
    "print('There are {} uniques categories.'.format(len(perth_venues['Venue Category'].unique())))"
   ]
  },
  {
   "cell_type": "markdown",
   "metadata": {},
   "source": [
    "#### Top 10 most common venue types by suburb"
   ]
  },
  {
   "cell_type": "code",
   "execution_count": 68,
   "metadata": {},
   "outputs": [
    {
     "name": "stdout",
     "output_type": "stream",
     "text": [
      "----East Perth----\n",
      "                       venue  freq\n",
      "0                       Café  0.43\n",
      "1         Italian Restaurant  0.14\n",
      "2           Asian Restaurant  0.07\n",
      "3             Breakfast Spot  0.07\n",
      "4                Coffee Shop  0.07\n",
      "5                 Restaurant  0.07\n",
      "6      Korean BBQ Restaurant  0.07\n",
      "7                Pizza Place  0.07\n",
      "8  Middle Eastern Restaurant  0.00\n",
      "9      Vietnamese Restaurant  0.00\n",
      "\n",
      "\n",
      "----North Perth----\n",
      "                       venue  freq\n",
      "0                       Café  0.36\n",
      "1                Coffee Shop  0.18\n",
      "2  Middle Eastern Restaurant  0.09\n",
      "3                        Bar  0.09\n",
      "4            Thai Restaurant  0.09\n",
      "5          Indian Restaurant  0.09\n",
      "6                Pizza Place  0.09\n",
      "7           Asian Restaurant  0.00\n",
      "8      Vietnamese Restaurant  0.00\n",
      "9           Sushi Restaurant  0.00\n",
      "\n",
      "\n",
      "----Perth City----\n",
      "                   venue  freq\n",
      "0            Coffee Shop  0.15\n",
      "1                    Bar  0.10\n",
      "2                   Café  0.10\n",
      "3               Wine Bar  0.08\n",
      "4  Australian Restaurant  0.05\n",
      "5  Vietnamese Restaurant  0.05\n",
      "6       Sushi Restaurant  0.05\n",
      "7             Restaurant  0.05\n",
      "8      Korean Restaurant  0.05\n",
      "9      Indian Restaurant  0.05\n",
      "\n",
      "\n",
      "----South Perth----\n",
      "                   venue  freq\n",
      "0                   Café   0.8\n",
      "1            Coffee Shop   0.2\n",
      "2       Asian Restaurant   0.0\n",
      "3     Mexican Restaurant   0.0\n",
      "4  Vietnamese Restaurant   0.0\n",
      "5        Thai Restaurant   0.0\n",
      "6       Sushi Restaurant   0.0\n",
      "7             Restaurant   0.0\n",
      "8       Ramen Restaurant   0.0\n",
      "9  Portuguese Restaurant   0.0\n",
      "\n",
      "\n",
      "----West Perth----\n",
      "                       venue  freq\n",
      "0                       Café  0.50\n",
      "1                Coffee Shop  0.12\n",
      "2         Italian Restaurant  0.12\n",
      "3           Asian Restaurant  0.06\n",
      "4                        Bar  0.06\n",
      "5            Thai Restaurant  0.06\n",
      "6      Australian Restaurant  0.06\n",
      "7  Middle Eastern Restaurant  0.00\n",
      "8      Vietnamese Restaurant  0.00\n",
      "9           Sushi Restaurant  0.00\n",
      "\n",
      "\n"
     ]
    }
   ],
   "source": [
    "# one hot encoding\n",
    "perth_onehot = pd.get_dummies(perth_venues[['Venue Category']], prefix=\"\", prefix_sep=\"\")\n",
    "perth_onehot['Neighborhood'] = perth_venues['Neighborhood'] \n",
    "perth_grouped = perth_onehot.groupby('Neighborhood').mean().reset_index()\n",
    "\n",
    "num_top_venues = 10\n",
    "\n",
    "for hood in perth_grouped['Neighborhood']:\n",
    "    print(\"----\"+hood+\"----\")\n",
    "    temp =perth_grouped[perth_grouped['Neighborhood'] == hood].T.reset_index()\n",
    "    temp.columns = ['venue','freq']\n",
    "    temp = temp.iloc[1:]\n",
    "    temp['freq'] = temp['freq'].astype(float)\n",
    "    temp = temp.round({'freq': 2})\n",
    "    print(temp.sort_values('freq', ascending=False).reset_index(drop=True).head(num_top_venues))\n",
    "    print('\\n')"
   ]
  },
  {
   "cell_type": "code",
   "execution_count": 69,
   "metadata": {},
   "outputs": [
    {
     "data": {
      "text/html": [
       "<div>\n",
       "<style scoped>\n",
       "    .dataframe tbody tr th:only-of-type {\n",
       "        vertical-align: middle;\n",
       "    }\n",
       "\n",
       "    .dataframe tbody tr th {\n",
       "        vertical-align: top;\n",
       "    }\n",
       "\n",
       "    .dataframe thead th {\n",
       "        text-align: right;\n",
       "    }\n",
       "</style>\n",
       "<table border=\"1\" class=\"dataframe\">\n",
       "  <thead>\n",
       "    <tr style=\"text-align: right;\">\n",
       "      <th></th>\n",
       "      <th>Neighborhood</th>\n",
       "      <th>1st Most Common Venue</th>\n",
       "      <th>2nd Most Common Venue</th>\n",
       "      <th>3rd Most Common Venue</th>\n",
       "      <th>4th Most Common Venue</th>\n",
       "      <th>5th Most Common Venue</th>\n",
       "      <th>6th Most Common Venue</th>\n",
       "      <th>7th Most Common Venue</th>\n",
       "      <th>8th Most Common Venue</th>\n",
       "      <th>9th Most Common Venue</th>\n",
       "      <th>10th Most Common Venue</th>\n",
       "    </tr>\n",
       "  </thead>\n",
       "  <tbody>\n",
       "    <tr>\n",
       "      <th>0</th>\n",
       "      <td>East Perth</td>\n",
       "      <td>Café</td>\n",
       "      <td>Italian Restaurant</td>\n",
       "      <td>Asian Restaurant</td>\n",
       "      <td>Restaurant</td>\n",
       "      <td>Breakfast Spot</td>\n",
       "      <td>Pizza Place</td>\n",
       "      <td>Coffee Shop</td>\n",
       "      <td>Korean BBQ Restaurant</td>\n",
       "      <td>Australian Restaurant</td>\n",
       "      <td>Bar</td>\n",
       "    </tr>\n",
       "    <tr>\n",
       "      <th>1</th>\n",
       "      <td>North Perth</td>\n",
       "      <td>Café</td>\n",
       "      <td>Coffee Shop</td>\n",
       "      <td>Thai Restaurant</td>\n",
       "      <td>Bar</td>\n",
       "      <td>Pizza Place</td>\n",
       "      <td>Middle Eastern Restaurant</td>\n",
       "      <td>Indian Restaurant</td>\n",
       "      <td>Wine Bar</td>\n",
       "      <td>Italian Restaurant</td>\n",
       "      <td>Australian Restaurant</td>\n",
       "    </tr>\n",
       "    <tr>\n",
       "      <th>2</th>\n",
       "      <td>Perth City</td>\n",
       "      <td>Coffee Shop</td>\n",
       "      <td>Bar</td>\n",
       "      <td>Café</td>\n",
       "      <td>Wine Bar</td>\n",
       "      <td>Vietnamese Restaurant</td>\n",
       "      <td>Australian Restaurant</td>\n",
       "      <td>Indian Restaurant</td>\n",
       "      <td>Korean Restaurant</td>\n",
       "      <td>Restaurant</td>\n",
       "      <td>Sushi Restaurant</td>\n",
       "    </tr>\n",
       "    <tr>\n",
       "      <th>3</th>\n",
       "      <td>South Perth</td>\n",
       "      <td>Café</td>\n",
       "      <td>Coffee Shop</td>\n",
       "      <td>Wine Bar</td>\n",
       "      <td>Korean BBQ Restaurant</td>\n",
       "      <td>Australian Restaurant</td>\n",
       "      <td>Bar</td>\n",
       "      <td>Beer Bar</td>\n",
       "      <td>Breakfast Spot</td>\n",
       "      <td>Cocktail Bar</td>\n",
       "      <td>Indian Restaurant</td>\n",
       "    </tr>\n",
       "    <tr>\n",
       "      <th>4</th>\n",
       "      <td>West Perth</td>\n",
       "      <td>Café</td>\n",
       "      <td>Coffee Shop</td>\n",
       "      <td>Italian Restaurant</td>\n",
       "      <td>Asian Restaurant</td>\n",
       "      <td>Thai Restaurant</td>\n",
       "      <td>Australian Restaurant</td>\n",
       "      <td>Bar</td>\n",
       "      <td>Korean BBQ Restaurant</td>\n",
       "      <td>Beer Bar</td>\n",
       "      <td>Breakfast Spot</td>\n",
       "    </tr>\n",
       "  </tbody>\n",
       "</table>\n",
       "</div>"
      ],
      "text/plain": [
       "  Neighborhood 1st Most Common Venue 2nd Most Common Venue  \\\n",
       "0   East Perth                  Café    Italian Restaurant   \n",
       "1  North Perth                  Café           Coffee Shop   \n",
       "2   Perth City           Coffee Shop                   Bar   \n",
       "3  South Perth                  Café           Coffee Shop   \n",
       "4   West Perth                  Café           Coffee Shop   \n",
       "\n",
       "  3rd Most Common Venue  4th Most Common Venue  5th Most Common Venue  \\\n",
       "0      Asian Restaurant             Restaurant         Breakfast Spot   \n",
       "1       Thai Restaurant                    Bar            Pizza Place   \n",
       "2                  Café               Wine Bar  Vietnamese Restaurant   \n",
       "3              Wine Bar  Korean BBQ Restaurant  Australian Restaurant   \n",
       "4    Italian Restaurant       Asian Restaurant        Thai Restaurant   \n",
       "\n",
       "       6th Most Common Venue 7th Most Common Venue  8th Most Common Venue  \\\n",
       "0                Pizza Place           Coffee Shop  Korean BBQ Restaurant   \n",
       "1  Middle Eastern Restaurant     Indian Restaurant               Wine Bar   \n",
       "2      Australian Restaurant     Indian Restaurant      Korean Restaurant   \n",
       "3                        Bar              Beer Bar         Breakfast Spot   \n",
       "4      Australian Restaurant                   Bar  Korean BBQ Restaurant   \n",
       "\n",
       "   9th Most Common Venue 10th Most Common Venue  \n",
       "0  Australian Restaurant                    Bar  \n",
       "1     Italian Restaurant  Australian Restaurant  \n",
       "2             Restaurant       Sushi Restaurant  \n",
       "3           Cocktail Bar      Indian Restaurant  \n",
       "4               Beer Bar         Breakfast Spot  "
      ]
     },
     "execution_count": 69,
     "metadata": {},
     "output_type": "execute_result"
    }
   ],
   "source": [
    "def return_most_common_venues(row, num_top_venues):\n",
    "    row_categories = row.iloc[1:]\n",
    "    row_categories_sorted = row_categories.sort_values(ascending=False)\n",
    "    \n",
    "    return row_categories_sorted.index.values[0:num_top_venues]\n",
    "\n",
    "num_top_venues = 10\n",
    "\n",
    "indicators = ['st', 'nd', 'rd']\n",
    "\n",
    "# create columns according to number of top venues\n",
    "columns = ['Neighborhood']\n",
    "for ind in np.arange(num_top_venues):\n",
    "    try:\n",
    "        columns.append('{}{} Most Common Venue'.format(ind+1, indicators[ind]))\n",
    "    except:\n",
    "        columns.append('{}th Most Common Venue'.format(ind+1))\n",
    "\n",
    "# create a new dataframe\n",
    "neighborhoods_venues_sorted = pd.DataFrame(columns=columns)\n",
    "neighborhoods_venues_sorted['Neighborhood'] = perth_grouped['Neighborhood']\n",
    "\n",
    "for ind in np.arange(perth_grouped.shape[0]):\n",
    "    neighborhoods_venues_sorted.iloc[ind, 1:] = return_most_common_venues(perth_grouped.iloc[ind, :], num_top_venues)\n",
    "\n",
    "neighborhoods_venues_sorted.head()"
   ]
  },
  {
   "cell_type": "markdown",
   "metadata": {},
   "source": [
    "#### Cluster Neighborhoods by Running K-means to cluster the neighborhood into 3 clusters representing The level of hospitality types by suburb"
   ]
  },
  {
   "cell_type": "code",
   "execution_count": 72,
   "metadata": {},
   "outputs": [
    {
     "data": {
      "text/html": [
       "<div>\n",
       "<style scoped>\n",
       "    .dataframe tbody tr th:only-of-type {\n",
       "        vertical-align: middle;\n",
       "    }\n",
       "\n",
       "    .dataframe tbody tr th {\n",
       "        vertical-align: top;\n",
       "    }\n",
       "\n",
       "    .dataframe thead th {\n",
       "        text-align: right;\n",
       "    }\n",
       "</style>\n",
       "<table border=\"1\" class=\"dataframe\">\n",
       "  <thead>\n",
       "    <tr style=\"text-align: right;\">\n",
       "      <th></th>\n",
       "      <th>Suburb</th>\n",
       "      <th>Local government area</th>\n",
       "      <th>Latitude</th>\n",
       "      <th>Longitude</th>\n",
       "      <th>1st Most Common Venue</th>\n",
       "      <th>2nd Most Common Venue</th>\n",
       "      <th>3rd Most Common Venue</th>\n",
       "      <th>4th Most Common Venue</th>\n",
       "      <th>5th Most Common Venue</th>\n",
       "      <th>6th Most Common Venue</th>\n",
       "      <th>7th Most Common Venue</th>\n",
       "      <th>8th Most Common Venue</th>\n",
       "      <th>9th Most Common Venue</th>\n",
       "      <th>10th Most Common Venue</th>\n",
       "      <th>Cluster Labels</th>\n",
       "    </tr>\n",
       "  </thead>\n",
       "  <tbody>\n",
       "    <tr>\n",
       "      <th>0</th>\n",
       "      <td>East Perth</td>\n",
       "      <td>Perth; Vincent</td>\n",
       "      <td>-31.954341</td>\n",
       "      <td>115.877889</td>\n",
       "      <td>Café</td>\n",
       "      <td>Italian Restaurant</td>\n",
       "      <td>Asian Restaurant</td>\n",
       "      <td>Restaurant</td>\n",
       "      <td>Breakfast Spot</td>\n",
       "      <td>Pizza Place</td>\n",
       "      <td>Coffee Shop</td>\n",
       "      <td>Korean BBQ Restaurant</td>\n",
       "      <td>Australian Restaurant</td>\n",
       "      <td>Bar</td>\n",
       "      <td>0</td>\n",
       "    </tr>\n",
       "    <tr>\n",
       "      <th>1</th>\n",
       "      <td>North Perth</td>\n",
       "      <td>Vincent</td>\n",
       "      <td>-31.930863</td>\n",
       "      <td>115.856704</td>\n",
       "      <td>Café</td>\n",
       "      <td>Coffee Shop</td>\n",
       "      <td>Thai Restaurant</td>\n",
       "      <td>Bar</td>\n",
       "      <td>Pizza Place</td>\n",
       "      <td>Middle Eastern Restaurant</td>\n",
       "      <td>Indian Restaurant</td>\n",
       "      <td>Wine Bar</td>\n",
       "      <td>Italian Restaurant</td>\n",
       "      <td>Australian Restaurant</td>\n",
       "      <td>0</td>\n",
       "    </tr>\n",
       "    <tr>\n",
       "      <th>2</th>\n",
       "      <td>Perth City</td>\n",
       "      <td>Perth; Vincent</td>\n",
       "      <td>-31.952712</td>\n",
       "      <td>115.860480</td>\n",
       "      <td>Coffee Shop</td>\n",
       "      <td>Bar</td>\n",
       "      <td>Café</td>\n",
       "      <td>Wine Bar</td>\n",
       "      <td>Vietnamese Restaurant</td>\n",
       "      <td>Australian Restaurant</td>\n",
       "      <td>Indian Restaurant</td>\n",
       "      <td>Korean Restaurant</td>\n",
       "      <td>Restaurant</td>\n",
       "      <td>Sushi Restaurant</td>\n",
       "      <td>1</td>\n",
       "    </tr>\n",
       "    <tr>\n",
       "      <th>3</th>\n",
       "      <td>South Perth</td>\n",
       "      <td>South Perth</td>\n",
       "      <td>-31.980966</td>\n",
       "      <td>115.863943</td>\n",
       "      <td>Café</td>\n",
       "      <td>Coffee Shop</td>\n",
       "      <td>Wine Bar</td>\n",
       "      <td>Korean BBQ Restaurant</td>\n",
       "      <td>Australian Restaurant</td>\n",
       "      <td>Bar</td>\n",
       "      <td>Beer Bar</td>\n",
       "      <td>Breakfast Spot</td>\n",
       "      <td>Cocktail Bar</td>\n",
       "      <td>Indian Restaurant</td>\n",
       "      <td>2</td>\n",
       "    </tr>\n",
       "    <tr>\n",
       "      <th>4</th>\n",
       "      <td>West Perth</td>\n",
       "      <td>Perth; Vincent</td>\n",
       "      <td>-31.948659</td>\n",
       "      <td>115.841571</td>\n",
       "      <td>Café</td>\n",
       "      <td>Coffee Shop</td>\n",
       "      <td>Italian Restaurant</td>\n",
       "      <td>Asian Restaurant</td>\n",
       "      <td>Thai Restaurant</td>\n",
       "      <td>Australian Restaurant</td>\n",
       "      <td>Bar</td>\n",
       "      <td>Korean BBQ Restaurant</td>\n",
       "      <td>Beer Bar</td>\n",
       "      <td>Breakfast Spot</td>\n",
       "      <td>0</td>\n",
       "    </tr>\n",
       "  </tbody>\n",
       "</table>\n",
       "</div>"
      ],
      "text/plain": [
       "        Suburb Local government area   Latitude   Longitude  \\\n",
       "0   East Perth        Perth; Vincent -31.954341  115.877889   \n",
       "1  North Perth               Vincent -31.930863  115.856704   \n",
       "2   Perth City        Perth; Vincent -31.952712  115.860480   \n",
       "3  South Perth           South Perth -31.980966  115.863943   \n",
       "4   West Perth        Perth; Vincent -31.948659  115.841571   \n",
       "\n",
       "  1st Most Common Venue 2nd Most Common Venue 3rd Most Common Venue  \\\n",
       "0                  Café    Italian Restaurant      Asian Restaurant   \n",
       "1                  Café           Coffee Shop       Thai Restaurant   \n",
       "2           Coffee Shop                   Bar                  Café   \n",
       "3                  Café           Coffee Shop              Wine Bar   \n",
       "4                  Café           Coffee Shop    Italian Restaurant   \n",
       "\n",
       "   4th Most Common Venue  5th Most Common Venue      6th Most Common Venue  \\\n",
       "0             Restaurant         Breakfast Spot                Pizza Place   \n",
       "1                    Bar            Pizza Place  Middle Eastern Restaurant   \n",
       "2               Wine Bar  Vietnamese Restaurant      Australian Restaurant   \n",
       "3  Korean BBQ Restaurant  Australian Restaurant                        Bar   \n",
       "4       Asian Restaurant        Thai Restaurant      Australian Restaurant   \n",
       "\n",
       "  7th Most Common Venue  8th Most Common Venue  9th Most Common Venue  \\\n",
       "0           Coffee Shop  Korean BBQ Restaurant  Australian Restaurant   \n",
       "1     Indian Restaurant               Wine Bar     Italian Restaurant   \n",
       "2     Indian Restaurant      Korean Restaurant             Restaurant   \n",
       "3              Beer Bar         Breakfast Spot           Cocktail Bar   \n",
       "4                   Bar  Korean BBQ Restaurant               Beer Bar   \n",
       "\n",
       "  10th Most Common Venue  Cluster Labels  \n",
       "0                    Bar               0  \n",
       "1  Australian Restaurant               0  \n",
       "2       Sushi Restaurant               1  \n",
       "3      Indian Restaurant               2  \n",
       "4         Breakfast Spot               0  "
      ]
     },
     "execution_count": 72,
     "metadata": {},
     "output_type": "execute_result"
    }
   ],
   "source": [
    "# set number of clusters\n",
    "kclusters = 3\n",
    "perth_grouped_clustering = perth_grouped.drop('Neighborhood', 1)\n",
    "\n",
    "# run k-means clustering\n",
    "kmeans = KMeans(n_clusters=kclusters, random_state=0).fit(perth_grouped_clustering)\n",
    "\n",
    "# add clustering label\n",
    "neighborhoods_venues_sorted['Cluster Labels'] = kmeans.labels_\n",
    "#neighborhoods_venues_sorted = neighborhoods_venues_sorted.insert(0, 'Cluster Labels', kmeans.labels_)\n",
    "neighborhoods_venues_sorted\n",
    "perth_merged = df\n",
    "perth_merged = perth_merged.join(neighborhoods_venues_sorted.set_index('Neighborhood'), on='Suburb')\n",
    "perth_merged.head()"
   ]
  },
  {
   "cell_type": "markdown",
   "metadata": {},
   "source": [
    "#### Visualisation of the Clusters"
   ]
  },
  {
   "cell_type": "code",
   "execution_count": 77,
   "metadata": {},
   "outputs": [
    {
     "data": {
      "text/html": [
       "<div style=\"width:100%;\"><div style=\"position:relative;width:100%;height:0;padding-bottom:60%;\"><span style=\"color:#565656\">Make this Notebook Trusted to load map: File -> Trust Notebook</span><iframe src=\"about:blank\" style=\"position:absolute;width:100%;height:100%;left:0;top:0;border:none !important;\" data-html=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 onload=\"this.contentDocument.open();this.contentDocument.write(atob(this.getAttribute('data-html')));this.contentDocument.close();\" allowfullscreen webkitallowfullscreen mozallowfullscreen></iframe></div></div>"
      ],
      "text/plain": [
       "<folium.folium.Map at 0x255f25a7548>"
      ]
     },
     "execution_count": 77,
     "metadata": {},
     "output_type": "execute_result"
    }
   ],
   "source": [
    "# create map\n",
    "map_clusters = folium.Map(location=[latitude, longitude], zoom_start=11)\n",
    "\n",
    "# set color scheme for the clusters\n",
    "x = np.arange(kclusters)\n",
    "ys = [i + x + (i*x)**2 for i in range(kclusters)]\n",
    "colors_array = cm.rainbow(np.linspace(0, 1, len(ys)))\n",
    "rainbow = [colors.rgb2hex(i) for i in colors_array]\n",
    "\n",
    "# add markers to the map\n",
    "markers_colors = []\n",
    "for lat, lon, poi, cluster in zip(perth_merged['Latitude'], perth_merged['Longitude'], perth_merged['Suburb'], perth_merged['Cluster Labels']):\n",
    "    label = folium.Popup(str(poi) + ' Cluster ' + str(cluster), parse_html=True)\n",
    "    folium.CircleMarker(\n",
    "        [lat, lon],\n",
    "        radius=10,\n",
    "        popup=label,\n",
    "        color=rainbow[cluster-1],\n",
    "        fill=True,\n",
    "        fill_color=rainbow[cluster-1],\n",
    "        fill_opacity=0.7).add_to(map_clusters)\n",
    "       \n",
    "map_clusters"
   ]
  },
  {
   "cell_type": "markdown",
   "metadata": {},
   "source": [
    "#### Cluster 1  - Moderate variety of restaurant types"
   ]
  },
  {
   "cell_type": "code",
   "execution_count": 74,
   "metadata": {},
   "outputs": [
    {
     "data": {
      "text/html": [
       "<div>\n",
       "<style scoped>\n",
       "    .dataframe tbody tr th:only-of-type {\n",
       "        vertical-align: middle;\n",
       "    }\n",
       "\n",
       "    .dataframe tbody tr th {\n",
       "        vertical-align: top;\n",
       "    }\n",
       "\n",
       "    .dataframe thead th {\n",
       "        text-align: right;\n",
       "    }\n",
       "</style>\n",
       "<table border=\"1\" class=\"dataframe\">\n",
       "  <thead>\n",
       "    <tr style=\"text-align: right;\">\n",
       "      <th></th>\n",
       "      <th>Suburb</th>\n",
       "      <th>1st Most Common Venue</th>\n",
       "      <th>2nd Most Common Venue</th>\n",
       "      <th>3rd Most Common Venue</th>\n",
       "      <th>4th Most Common Venue</th>\n",
       "      <th>5th Most Common Venue</th>\n",
       "      <th>6th Most Common Venue</th>\n",
       "      <th>7th Most Common Venue</th>\n",
       "      <th>8th Most Common Venue</th>\n",
       "      <th>9th Most Common Venue</th>\n",
       "      <th>10th Most Common Venue</th>\n",
       "      <th>Cluster Labels</th>\n",
       "    </tr>\n",
       "  </thead>\n",
       "  <tbody>\n",
       "    <tr>\n",
       "      <th>0</th>\n",
       "      <td>East Perth</td>\n",
       "      <td>Café</td>\n",
       "      <td>Italian Restaurant</td>\n",
       "      <td>Asian Restaurant</td>\n",
       "      <td>Restaurant</td>\n",
       "      <td>Breakfast Spot</td>\n",
       "      <td>Pizza Place</td>\n",
       "      <td>Coffee Shop</td>\n",
       "      <td>Korean BBQ Restaurant</td>\n",
       "      <td>Australian Restaurant</td>\n",
       "      <td>Bar</td>\n",
       "      <td>0</td>\n",
       "    </tr>\n",
       "    <tr>\n",
       "      <th>1</th>\n",
       "      <td>North Perth</td>\n",
       "      <td>Café</td>\n",
       "      <td>Coffee Shop</td>\n",
       "      <td>Thai Restaurant</td>\n",
       "      <td>Bar</td>\n",
       "      <td>Pizza Place</td>\n",
       "      <td>Middle Eastern Restaurant</td>\n",
       "      <td>Indian Restaurant</td>\n",
       "      <td>Wine Bar</td>\n",
       "      <td>Italian Restaurant</td>\n",
       "      <td>Australian Restaurant</td>\n",
       "      <td>0</td>\n",
       "    </tr>\n",
       "    <tr>\n",
       "      <th>4</th>\n",
       "      <td>West Perth</td>\n",
       "      <td>Café</td>\n",
       "      <td>Coffee Shop</td>\n",
       "      <td>Italian Restaurant</td>\n",
       "      <td>Asian Restaurant</td>\n",
       "      <td>Thai Restaurant</td>\n",
       "      <td>Australian Restaurant</td>\n",
       "      <td>Bar</td>\n",
       "      <td>Korean BBQ Restaurant</td>\n",
       "      <td>Beer Bar</td>\n",
       "      <td>Breakfast Spot</td>\n",
       "      <td>0</td>\n",
       "    </tr>\n",
       "  </tbody>\n",
       "</table>\n",
       "</div>"
      ],
      "text/plain": [
       "        Suburb 1st Most Common Venue 2nd Most Common Venue  \\\n",
       "0   East Perth                  Café    Italian Restaurant   \n",
       "1  North Perth                  Café           Coffee Shop   \n",
       "4   West Perth                  Café           Coffee Shop   \n",
       "\n",
       "  3rd Most Common Venue 4th Most Common Venue 5th Most Common Venue  \\\n",
       "0      Asian Restaurant            Restaurant        Breakfast Spot   \n",
       "1       Thai Restaurant                   Bar           Pizza Place   \n",
       "4    Italian Restaurant      Asian Restaurant       Thai Restaurant   \n",
       "\n",
       "       6th Most Common Venue 7th Most Common Venue  8th Most Common Venue  \\\n",
       "0                Pizza Place           Coffee Shop  Korean BBQ Restaurant   \n",
       "1  Middle Eastern Restaurant     Indian Restaurant               Wine Bar   \n",
       "4      Australian Restaurant                   Bar  Korean BBQ Restaurant   \n",
       "\n",
       "   9th Most Common Venue 10th Most Common Venue  Cluster Labels  \n",
       "0  Australian Restaurant                    Bar               0  \n",
       "1     Italian Restaurant  Australian Restaurant               0  \n",
       "4               Beer Bar         Breakfast Spot               0  "
      ]
     },
     "execution_count": 74,
     "metadata": {},
     "output_type": "execute_result"
    }
   ],
   "source": [
    "perth_merged.loc[perth_merged['Cluster Labels'] == 0, perth_merged.columns[[0] + list(range(4, perth_merged.shape[1]))]]"
   ]
  },
  {
   "cell_type": "markdown",
   "metadata": {},
   "source": [
    "#### Cluster 2: Highest variety of restaurant types"
   ]
  },
  {
   "cell_type": "code",
   "execution_count": 75,
   "metadata": {},
   "outputs": [
    {
     "data": {
      "text/html": [
       "<div>\n",
       "<style scoped>\n",
       "    .dataframe tbody tr th:only-of-type {\n",
       "        vertical-align: middle;\n",
       "    }\n",
       "\n",
       "    .dataframe tbody tr th {\n",
       "        vertical-align: top;\n",
       "    }\n",
       "\n",
       "    .dataframe thead th {\n",
       "        text-align: right;\n",
       "    }\n",
       "</style>\n",
       "<table border=\"1\" class=\"dataframe\">\n",
       "  <thead>\n",
       "    <tr style=\"text-align: right;\">\n",
       "      <th></th>\n",
       "      <th>Suburb</th>\n",
       "      <th>1st Most Common Venue</th>\n",
       "      <th>2nd Most Common Venue</th>\n",
       "      <th>3rd Most Common Venue</th>\n",
       "      <th>4th Most Common Venue</th>\n",
       "      <th>5th Most Common Venue</th>\n",
       "      <th>6th Most Common Venue</th>\n",
       "      <th>7th Most Common Venue</th>\n",
       "      <th>8th Most Common Venue</th>\n",
       "      <th>9th Most Common Venue</th>\n",
       "      <th>10th Most Common Venue</th>\n",
       "      <th>Cluster Labels</th>\n",
       "    </tr>\n",
       "  </thead>\n",
       "  <tbody>\n",
       "    <tr>\n",
       "      <th>2</th>\n",
       "      <td>Perth City</td>\n",
       "      <td>Coffee Shop</td>\n",
       "      <td>Bar</td>\n",
       "      <td>Café</td>\n",
       "      <td>Wine Bar</td>\n",
       "      <td>Vietnamese Restaurant</td>\n",
       "      <td>Australian Restaurant</td>\n",
       "      <td>Indian Restaurant</td>\n",
       "      <td>Korean Restaurant</td>\n",
       "      <td>Restaurant</td>\n",
       "      <td>Sushi Restaurant</td>\n",
       "      <td>1</td>\n",
       "    </tr>\n",
       "  </tbody>\n",
       "</table>\n",
       "</div>"
      ],
      "text/plain": [
       "       Suburb 1st Most Common Venue 2nd Most Common Venue  \\\n",
       "2  Perth City           Coffee Shop                   Bar   \n",
       "\n",
       "  3rd Most Common Venue 4th Most Common Venue  5th Most Common Venue  \\\n",
       "2                  Café              Wine Bar  Vietnamese Restaurant   \n",
       "\n",
       "   6th Most Common Venue 7th Most Common Venue 8th Most Common Venue  \\\n",
       "2  Australian Restaurant     Indian Restaurant     Korean Restaurant   \n",
       "\n",
       "  9th Most Common Venue 10th Most Common Venue  Cluster Labels  \n",
       "2            Restaurant       Sushi Restaurant               1  "
      ]
     },
     "execution_count": 75,
     "metadata": {},
     "output_type": "execute_result"
    }
   ],
   "source": [
    "perth_merged.loc[perth_merged['Cluster Labels'] == 1, perth_merged.columns[[0] + list(range(4, perth_merged.shape[1]))]]"
   ]
  },
  {
   "cell_type": "markdown",
   "metadata": {},
   "source": [
    "#### Cluster 3: Lowest variety of restaurant types"
   ]
  },
  {
   "cell_type": "code",
   "execution_count": 76,
   "metadata": {},
   "outputs": [
    {
     "data": {
      "text/html": [
       "<div>\n",
       "<style scoped>\n",
       "    .dataframe tbody tr th:only-of-type {\n",
       "        vertical-align: middle;\n",
       "    }\n",
       "\n",
       "    .dataframe tbody tr th {\n",
       "        vertical-align: top;\n",
       "    }\n",
       "\n",
       "    .dataframe thead th {\n",
       "        text-align: right;\n",
       "    }\n",
       "</style>\n",
       "<table border=\"1\" class=\"dataframe\">\n",
       "  <thead>\n",
       "    <tr style=\"text-align: right;\">\n",
       "      <th></th>\n",
       "      <th>Suburb</th>\n",
       "      <th>1st Most Common Venue</th>\n",
       "      <th>2nd Most Common Venue</th>\n",
       "      <th>3rd Most Common Venue</th>\n",
       "      <th>4th Most Common Venue</th>\n",
       "      <th>5th Most Common Venue</th>\n",
       "      <th>6th Most Common Venue</th>\n",
       "      <th>7th Most Common Venue</th>\n",
       "      <th>8th Most Common Venue</th>\n",
       "      <th>9th Most Common Venue</th>\n",
       "      <th>10th Most Common Venue</th>\n",
       "      <th>Cluster Labels</th>\n",
       "    </tr>\n",
       "  </thead>\n",
       "  <tbody>\n",
       "    <tr>\n",
       "      <th>3</th>\n",
       "      <td>South Perth</td>\n",
       "      <td>Café</td>\n",
       "      <td>Coffee Shop</td>\n",
       "      <td>Wine Bar</td>\n",
       "      <td>Korean BBQ Restaurant</td>\n",
       "      <td>Australian Restaurant</td>\n",
       "      <td>Bar</td>\n",
       "      <td>Beer Bar</td>\n",
       "      <td>Breakfast Spot</td>\n",
       "      <td>Cocktail Bar</td>\n",
       "      <td>Indian Restaurant</td>\n",
       "      <td>2</td>\n",
       "    </tr>\n",
       "  </tbody>\n",
       "</table>\n",
       "</div>"
      ],
      "text/plain": [
       "        Suburb 1st Most Common Venue 2nd Most Common Venue  \\\n",
       "3  South Perth                  Café           Coffee Shop   \n",
       "\n",
       "  3rd Most Common Venue  4th Most Common Venue  5th Most Common Venue  \\\n",
       "3              Wine Bar  Korean BBQ Restaurant  Australian Restaurant   \n",
       "\n",
       "  6th Most Common Venue 7th Most Common Venue 8th Most Common Venue  \\\n",
       "3                   Bar              Beer Bar        Breakfast Spot   \n",
       "\n",
       "  9th Most Common Venue 10th Most Common Venue  Cluster Labels  \n",
       "3          Cocktail Bar      Indian Restaurant               2  "
      ]
     },
     "execution_count": 76,
     "metadata": {},
     "output_type": "execute_result"
    }
   ],
   "source": [
    "perth_merged.loc[perth_merged['Cluster Labels'] == 2, perth_merged.columns[[0] + list(range(4, perth_merged.shape[1]))]]"
   ]
  },
  {
   "cell_type": "markdown",
   "metadata": {},
   "source": [
    "Based on the above analysis, South Perth should be the focus area for investing in new Hospitality venue types."
   ]
  }
 ],
 "metadata": {
  "kernelspec": {
   "display_name": "Python 3",
   "language": "python",
   "name": "python3"
  },
  "language_info": {
   "codemirror_mode": {
    "name": "ipython",
    "version": 3
   },
   "file_extension": ".py",
   "mimetype": "text/x-python",
   "name": "python",
   "nbconvert_exporter": "python",
   "pygments_lexer": "ipython3",
   "version": "3.7.9"
  }
 },
 "nbformat": 4,
 "nbformat_minor": 4
}
